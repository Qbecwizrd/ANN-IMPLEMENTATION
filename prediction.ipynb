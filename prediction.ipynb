{
 "cells": [
  {
   "cell_type": "code",
   "execution_count": 1,
   "metadata": {},
   "outputs": [],
   "source": [
    "import numpy as np\n",
    "from tensorflow.keras.datasets import imdb\n",
    "from tensorflow.keras.preprocessing import sequence\n",
    "from tensorflow.keras.models import load_model"
   ]
  },
  {
   "cell_type": "code",
   "execution_count": 2,
   "metadata": {},
   "outputs": [],
   "source": [
    "word_index=imdb.get_word_index()\n",
    "reverse_word_index={value:key for key,value in word_index.items()}"
   ]
  },
  {
   "cell_type": "code",
   "execution_count": 3,
   "metadata": {},
   "outputs": [
    {
     "name": "stderr",
     "output_type": "stream",
     "text": [
      "WARNING:absl:Compiled the loaded model, but the compiled metrics have yet to be built. `model.compile_metrics` will be empty until you train or evaluate the model.\n"
     ]
    },
    {
     "data": {
      "text/html": [
       "<pre style=\"white-space:pre;overflow-x:auto;line-height:normal;font-family:Menlo,'DejaVu Sans Mono',consolas,'Courier New',monospace\"><span style=\"font-weight: bold\">Model: \"sequential_1\"</span>\n",
       "</pre>\n"
      ],
      "text/plain": [
       "\u001b[1mModel: \"sequential_1\"\u001b[0m\n"
      ]
     },
     "metadata": {},
     "output_type": "display_data"
    },
    {
     "data": {
      "text/html": [
       "<pre style=\"white-space:pre;overflow-x:auto;line-height:normal;font-family:Menlo,'DejaVu Sans Mono',consolas,'Courier New',monospace\">┏━━━━━━━━━━━━━━━━━━━━━━━━━━━━━━━━━┳━━━━━━━━━━━━━━━━━━━━━━━━┳━━━━━━━━━━━━━━━┓\n",
       "┃<span style=\"font-weight: bold\"> Layer (type)                    </span>┃<span style=\"font-weight: bold\"> Output Shape           </span>┃<span style=\"font-weight: bold\">       Param # </span>┃\n",
       "┡━━━━━━━━━━━━━━━━━━━━━━━━━━━━━━━━━╇━━━━━━━━━━━━━━━━━━━━━━━━╇━━━━━━━━━━━━━━━┩\n",
       "│ embedding_4 (<span style=\"color: #0087ff; text-decoration-color: #0087ff\">Embedding</span>)         │ (<span style=\"color: #00af00; text-decoration-color: #00af00\">32</span>, <span style=\"color: #00af00; text-decoration-color: #00af00\">500</span>, <span style=\"color: #00af00; text-decoration-color: #00af00\">128</span>)         │     <span style=\"color: #00af00; text-decoration-color: #00af00\">1,280,000</span> │\n",
       "├─────────────────────────────────┼────────────────────────┼───────────────┤\n",
       "│ simple_rnn_1 (<span style=\"color: #0087ff; text-decoration-color: #0087ff\">SimpleRNN</span>)        │ (<span style=\"color: #00af00; text-decoration-color: #00af00\">32</span>, <span style=\"color: #00af00; text-decoration-color: #00af00\">128</span>)              │        <span style=\"color: #00af00; text-decoration-color: #00af00\">32,896</span> │\n",
       "├─────────────────────────────────┼────────────────────────┼───────────────┤\n",
       "│ dense_1 (<span style=\"color: #0087ff; text-decoration-color: #0087ff\">Dense</span>)                 │ (<span style=\"color: #00af00; text-decoration-color: #00af00\">32</span>, <span style=\"color: #00af00; text-decoration-color: #00af00\">1</span>)                │           <span style=\"color: #00af00; text-decoration-color: #00af00\">129</span> │\n",
       "└─────────────────────────────────┴────────────────────────┴───────────────┘\n",
       "</pre>\n"
      ],
      "text/plain": [
       "┏━━━━━━━━━━━━━━━━━━━━━━━━━━━━━━━━━┳━━━━━━━━━━━━━━━━━━━━━━━━┳━━━━━━━━━━━━━━━┓\n",
       "┃\u001b[1m \u001b[0m\u001b[1mLayer (type)                   \u001b[0m\u001b[1m \u001b[0m┃\u001b[1m \u001b[0m\u001b[1mOutput Shape          \u001b[0m\u001b[1m \u001b[0m┃\u001b[1m \u001b[0m\u001b[1m      Param #\u001b[0m\u001b[1m \u001b[0m┃\n",
       "┡━━━━━━━━━━━━━━━━━━━━━━━━━━━━━━━━━╇━━━━━━━━━━━━━━━━━━━━━━━━╇━━━━━━━━━━━━━━━┩\n",
       "│ embedding_4 (\u001b[38;5;33mEmbedding\u001b[0m)         │ (\u001b[38;5;34m32\u001b[0m, \u001b[38;5;34m500\u001b[0m, \u001b[38;5;34m128\u001b[0m)         │     \u001b[38;5;34m1,280,000\u001b[0m │\n",
       "├─────────────────────────────────┼────────────────────────┼───────────────┤\n",
       "│ simple_rnn_1 (\u001b[38;5;33mSimpleRNN\u001b[0m)        │ (\u001b[38;5;34m32\u001b[0m, \u001b[38;5;34m128\u001b[0m)              │        \u001b[38;5;34m32,896\u001b[0m │\n",
       "├─────────────────────────────────┼────────────────────────┼───────────────┤\n",
       "│ dense_1 (\u001b[38;5;33mDense\u001b[0m)                 │ (\u001b[38;5;34m32\u001b[0m, \u001b[38;5;34m1\u001b[0m)                │           \u001b[38;5;34m129\u001b[0m │\n",
       "└─────────────────────────────────┴────────────────────────┴───────────────┘\n"
      ]
     },
     "metadata": {},
     "output_type": "display_data"
    },
    {
     "data": {
      "text/html": [
       "<pre style=\"white-space:pre;overflow-x:auto;line-height:normal;font-family:Menlo,'DejaVu Sans Mono',consolas,'Courier New',monospace\"><span style=\"font-weight: bold\"> Total params: </span><span style=\"color: #00af00; text-decoration-color: #00af00\">1,313,027</span> (5.01 MB)\n",
       "</pre>\n"
      ],
      "text/plain": [
       "\u001b[1m Total params: \u001b[0m\u001b[38;5;34m1,313,027\u001b[0m (5.01 MB)\n"
      ]
     },
     "metadata": {},
     "output_type": "display_data"
    },
    {
     "data": {
      "text/html": [
       "<pre style=\"white-space:pre;overflow-x:auto;line-height:normal;font-family:Menlo,'DejaVu Sans Mono',consolas,'Courier New',monospace\"><span style=\"font-weight: bold\"> Trainable params: </span><span style=\"color: #00af00; text-decoration-color: #00af00\">1,313,025</span> (5.01 MB)\n",
       "</pre>\n"
      ],
      "text/plain": [
       "\u001b[1m Trainable params: \u001b[0m\u001b[38;5;34m1,313,025\u001b[0m (5.01 MB)\n"
      ]
     },
     "metadata": {},
     "output_type": "display_data"
    },
    {
     "data": {
      "text/html": [
       "<pre style=\"white-space:pre;overflow-x:auto;line-height:normal;font-family:Menlo,'DejaVu Sans Mono',consolas,'Courier New',monospace\"><span style=\"font-weight: bold\"> Non-trainable params: </span><span style=\"color: #00af00; text-decoration-color: #00af00\">0</span> (0.00 B)\n",
       "</pre>\n"
      ],
      "text/plain": [
       "\u001b[1m Non-trainable params: \u001b[0m\u001b[38;5;34m0\u001b[0m (0.00 B)\n"
      ]
     },
     "metadata": {},
     "output_type": "display_data"
    },
    {
     "data": {
      "text/html": [
       "<pre style=\"white-space:pre;overflow-x:auto;line-height:normal;font-family:Menlo,'DejaVu Sans Mono',consolas,'Courier New',monospace\"><span style=\"font-weight: bold\"> Optimizer params: </span><span style=\"color: #00af00; text-decoration-color: #00af00\">2</span> (12.00 B)\n",
       "</pre>\n"
      ],
      "text/plain": [
       "\u001b[1m Optimizer params: \u001b[0m\u001b[38;5;34m2\u001b[0m (12.00 B)\n"
      ]
     },
     "metadata": {},
     "output_type": "display_data"
    }
   ],
   "source": [
    "model=load_model('simple_rrn.h5')\n",
    "model.summary()"
   ]
  },
  {
   "cell_type": "code",
   "execution_count": 4,
   "metadata": {},
   "outputs": [
    {
     "data": {
      "text/plain": [
       "[array([[-0.28278586,  0.2747829 , -0.264821  , ..., -0.28668448,\n",
       "          0.3129275 ,  0.33224913],\n",
       "        [ 0.09637343, -0.00143062,  0.06599729, ...,  0.07616414,\n",
       "         -0.08479838,  0.05687229],\n",
       "        [-0.00924034, -0.00933595,  0.08327675, ...,  0.09308062,\n",
       "         -0.13860255,  0.13922171],\n",
       "        ...,\n",
       "        [ 0.01912123, -0.02342953,  0.01834419, ...,  0.05591502,\n",
       "          0.01102568, -0.07786838],\n",
       "        [-0.09018533,  0.03153577, -0.0626127 , ..., -0.03084128,\n",
       "          0.10165399,  0.00502173],\n",
       "        [ 0.01310653, -0.05544347,  0.08840559, ...,  0.01594706,\n",
       "         -0.07497932, -0.01078649]], dtype=float32),\n",
       " array([[-0.06238244, -0.02632226, -0.1917015 , ..., -0.14924923,\n",
       "         -0.13301525, -0.07820843],\n",
       "        [-0.13557194,  0.11951496, -0.01654979, ...,  0.02114468,\n",
       "          0.0874019 ,  0.0178566 ],\n",
       "        [-0.08557186, -0.03853583, -0.12959215, ...,  0.04281602,\n",
       "         -0.10925793,  0.05064048],\n",
       "        ...,\n",
       "        [ 0.10119718,  0.06262735, -0.20461407, ..., -0.07973318,\n",
       "         -0.1766818 ,  0.10865335],\n",
       "        [-0.04303113, -0.08535528,  0.04181234, ...,  0.21393979,\n",
       "         -0.09005366,  0.03253268],\n",
       "        [ 0.04955507,  0.0243449 , -0.13695684, ..., -0.18470761,\n",
       "         -0.10143344, -0.13447835]], dtype=float32),\n",
       " array([[ 0.05181182,  0.10485075,  0.08636723, ...,  0.04756439,\n",
       "         -0.05455219,  0.0169926 ],\n",
       "        [-0.17308995,  0.13799341,  0.01668938, ..., -0.07921423,\n",
       "          0.13172057, -0.15785728],\n",
       "        [ 0.05125846, -0.09084884,  0.06345163, ...,  0.03875392,\n",
       "          0.08035081, -0.08172505],\n",
       "        ...,\n",
       "        [-0.13366118,  0.06709518,  0.12356983, ...,  0.01965476,\n",
       "          0.15461889,  0.18406096],\n",
       "        [-0.16086587,  0.23003164,  0.16560094, ...,  0.00376896,\n",
       "          0.263092  ,  0.11715847],\n",
       "        [ 0.10046012,  0.02838496, -0.11249785, ..., -0.07735712,\n",
       "         -0.02027592,  0.05617394]], dtype=float32),\n",
       " array([-1.59563497e-02,  2.49935221e-02,  1.50354225e-02,  6.69744657e-03,\n",
       "         2.77673062e-02,  1.11043388e-02, -9.93475877e-03,  1.32657902e-03,\n",
       "         1.83686502e-02,  1.49004068e-02, -2.23619398e-02,  1.23438062e-02,\n",
       "        -3.68215442e-02,  1.54423434e-02, -2.19981861e-03, -1.39835859e-02,\n",
       "         2.28299331e-02,  5.05207106e-03,  6.92054303e-03, -3.34305018e-02,\n",
       "         8.91053025e-03, -1.33642759e-02, -1.47672473e-02, -1.27907842e-02,\n",
       "        -3.14990059e-02, -4.08067070e-02, -4.71410947e-03,  1.04181143e-02,\n",
       "         8.42326134e-03, -7.81839993e-03, -3.33278789e-03, -4.20270860e-02,\n",
       "        -1.38788316e-02, -1.68209635e-02, -2.83167809e-02, -8.40410212e-05,\n",
       "        -8.17442685e-03,  1.25160685e-03, -3.22860852e-03, -2.08386648e-02,\n",
       "         2.17322074e-02,  2.40760557e-02,  1.72082838e-02,  7.22739846e-02,\n",
       "        -2.85780542e-02, -1.46548986e-03, -7.30351172e-03,  2.73510013e-02,\n",
       "         2.27422714e-02, -1.48816686e-02,  1.66610721e-02,  7.12263398e-03,\n",
       "         1.58097278e-02, -2.07603015e-02,  2.08042338e-02, -1.45311495e-02,\n",
       "        -1.74140409e-02, -1.00233173e-02, -2.59403307e-02,  1.96043327e-02,\n",
       "        -1.88114140e-02, -1.23699484e-02,  2.50654342e-03,  7.54038757e-03,\n",
       "        -2.47272477e-03,  2.49136183e-02, -2.15558261e-02,  1.25804627e-02,\n",
       "        -1.03030670e-02, -2.31017973e-02,  3.17588821e-02,  2.41656229e-02,\n",
       "         2.86957864e-02, -1.31211672e-02, -3.13876681e-02, -1.95048712e-02,\n",
       "         3.51680932e-03,  1.91781130e-02, -1.32901948e-02, -1.07592056e-02,\n",
       "         6.01686304e-03,  2.32264809e-02,  2.03206018e-02,  9.11915395e-03,\n",
       "        -7.44742434e-03, -5.98582346e-03,  8.77906196e-03,  2.23388593e-03,\n",
       "        -2.39999536e-02,  9.33171902e-03, -3.86993028e-02,  1.28618116e-02,\n",
       "        -3.48346382e-02, -3.01726814e-02, -1.39694000e-02, -2.11273879e-02,\n",
       "         2.04055160e-02, -3.92704122e-02, -9.08335950e-03, -4.12157327e-02,\n",
       "        -4.22380166e-04, -2.60824971e-02, -2.92257089e-02, -1.63200882e-03,\n",
       "         3.79040949e-02,  1.12963011e-02, -1.41785908e-02, -2.24659480e-02,\n",
       "        -1.72993150e-02, -2.88483351e-02,  7.82948080e-03,  7.62269944e-02,\n",
       "        -1.67061724e-02,  3.61560052e-03, -1.73407085e-02,  2.48035155e-02,\n",
       "         2.36770092e-03,  9.01716482e-03,  9.39592347e-03, -7.47003360e-03,\n",
       "        -1.40904896e-02,  1.93882342e-02, -1.57264676e-02, -2.79831272e-02,\n",
       "         1.50837926e-02, -1.47762010e-02,  1.96674503e-02, -8.43955576e-03],\n",
       "       dtype=float32),\n",
       " array([[-0.03984183],\n",
       "        [-0.04658032],\n",
       "        [-0.13374594],\n",
       "        [ 0.16127047],\n",
       "        [ 0.19803752],\n",
       "        [-0.41331676],\n",
       "        [-0.00293828],\n",
       "        [-0.18165581],\n",
       "        [ 0.10310762],\n",
       "        [ 0.08149823],\n",
       "        [ 0.19217551],\n",
       "        [-0.05757802],\n",
       "        [-0.00441922],\n",
       "        [ 0.18744294],\n",
       "        [ 0.02837634],\n",
       "        [-0.28408143],\n",
       "        [ 0.19880818],\n",
       "        [ 0.0059021 ],\n",
       "        [-0.27688912],\n",
       "        [-0.06763139],\n",
       "        [ 0.10840148],\n",
       "        [ 0.22195242],\n",
       "        [ 0.19400877],\n",
       "        [-0.20490241],\n",
       "        [-0.11751823],\n",
       "        [-0.01011134],\n",
       "        [-0.40323576],\n",
       "        [ 0.22262323],\n",
       "        [ 0.09214958],\n",
       "        [-0.00230985],\n",
       "        [ 0.14043449],\n",
       "        [ 0.4099732 ],\n",
       "        [-0.25870997],\n",
       "        [ 0.26583198],\n",
       "        [-0.1770505 ],\n",
       "        [-0.14027862],\n",
       "        [-0.1326451 ],\n",
       "        [-0.15118311],\n",
       "        [-0.12357904],\n",
       "        [-0.13093835],\n",
       "        [-0.07550196],\n",
       "        [ 0.0467134 ],\n",
       "        [-0.02264751],\n",
       "        [-0.12727255],\n",
       "        [ 0.15665722],\n",
       "        [-0.5629951 ],\n",
       "        [ 0.04358475],\n",
       "        [-0.24635969],\n",
       "        [ 0.18229221],\n",
       "        [ 0.04322587],\n",
       "        [ 0.04693971],\n",
       "        [-0.09889042],\n",
       "        [ 0.01054957],\n",
       "        [ 0.09279652],\n",
       "        [-0.15850961],\n",
       "        [-0.1660049 ],\n",
       "        [-0.22853044],\n",
       "        [-0.34471372],\n",
       "        [ 0.05477237],\n",
       "        [ 0.13643017],\n",
       "        [-0.12904337],\n",
       "        [ 0.10561188],\n",
       "        [ 0.19271824],\n",
       "        [-0.08048788],\n",
       "        [-0.17346455],\n",
       "        [-0.14109173],\n",
       "        [ 0.05200159],\n",
       "        [ 0.2292752 ],\n",
       "        [ 0.07853503],\n",
       "        [-0.07701135],\n",
       "        [ 0.17809466],\n",
       "        [ 0.12541752],\n",
       "        [-0.04471361],\n",
       "        [ 0.09871584],\n",
       "        [ 0.20936945],\n",
       "        [-0.23368505],\n",
       "        [ 0.25371465],\n",
       "        [-0.19631544],\n",
       "        [ 0.11929177],\n",
       "        [-0.15217616],\n",
       "        [ 0.06053412],\n",
       "        [-0.08009027],\n",
       "        [ 0.24859919],\n",
       "        [ 0.04563389],\n",
       "        [-0.15832463],\n",
       "        [-0.06240384],\n",
       "        [-0.49686104],\n",
       "        [-0.21179736],\n",
       "        [ 0.02192036],\n",
       "        [-0.47436568],\n",
       "        [-0.22567986],\n",
       "        [ 0.02878281],\n",
       "        [-0.02047292],\n",
       "        [-0.06300449],\n",
       "        [-0.13707711],\n",
       "        [ 0.02172618],\n",
       "        [ 0.05011837],\n",
       "        [ 0.04520165],\n",
       "        [-0.22089323],\n",
       "        [ 0.0817609 ],\n",
       "        [ 0.05184089],\n",
       "        [-0.18009892],\n",
       "        [ 0.01576464],\n",
       "        [-0.01006247],\n",
       "        [-0.21246573],\n",
       "        [-0.16299462],\n",
       "        [-0.03995774],\n",
       "        [-0.03186328],\n",
       "        [-0.23974222],\n",
       "        [-0.32275376],\n",
       "        [-0.05862639],\n",
       "        [-0.41720787],\n",
       "        [-0.17109734],\n",
       "        [ 0.05746152],\n",
       "        [-0.13382083],\n",
       "        [ 0.17432319],\n",
       "        [ 0.09432604],\n",
       "        [ 0.22481504],\n",
       "        [-0.69683486],\n",
       "        [ 0.2497046 ],\n",
       "        [-0.04732374],\n",
       "        [ 0.17178787],\n",
       "        [-0.1465372 ],\n",
       "        [ 0.09341321],\n",
       "        [ 0.12729573],\n",
       "        [-0.20932978],\n",
       "        [-0.01336047],\n",
       "        [-0.08876808]], dtype=float32),\n",
       " array([-0.4475833], dtype=float32)]"
      ]
     },
     "execution_count": 4,
     "metadata": {},
     "output_type": "execute_result"
    }
   ],
   "source": [
    "model.get_weights()"
   ]
  },
  {
   "cell_type": "code",
   "execution_count": 5,
   "metadata": {},
   "outputs": [],
   "source": [
    "def decode_review(sample_review):\n",
    "    decoded_review=' '.join([reverse_word_index.get(i-3,'?') for i in sample_review])\n"
   ]
  },
  {
   "cell_type": "code",
   "execution_count": 6,
   "metadata": {},
   "outputs": [],
   "source": [
    "def preprocess_text(text):\n",
    "    words=text.lower().split()\n",
    "    encoded_review=[word_index.get(word,2)+3 for word in words]\n",
    "    padded_review=sequence.pad_sequences([encoded_review],maxlen=500)\n",
    "    return padded_review\n"
   ]
  },
  {
   "cell_type": "code",
   "execution_count": 7,
   "metadata": {},
   "outputs": [],
   "source": [
    "### prediction function\n",
    "def predict_sentiment(review):\n",
    "    preprocessed_input=preprocess_text(review)\n",
    "    prediction=model.predict(preprocessed_input)\n",
    "\n",
    "    sentiment= 'Positive' if prediction[0][0]>0.5 else 'Negative'\n",
    "\n",
    "    return sentiment,prediction[0][0]"
   ]
  },
  {
   "cell_type": "code",
   "execution_count": 14,
   "metadata": {},
   "outputs": [
    {
     "name": "stdout",
     "output_type": "stream",
     "text": [
      "\u001b[1m1/1\u001b[0m \u001b[32m━━━━━━━━━━━━━━━━━━━━\u001b[0m\u001b[37m\u001b[0m \u001b[1m0s\u001b[0m 54ms/step\n"
     ]
    }
   ],
   "source": [
    "## example review\n",
    "\n",
    "example_review='This movie was thrilling'\n",
    "sentiment,prediction=predict_sentiment(example_review)"
   ]
  },
  {
   "cell_type": "code",
   "execution_count": 17,
   "metadata": {},
   "outputs": [
    {
     "name": "stdout",
     "output_type": "stream",
     "text": [
      "Negative 9.640063e-09\n"
     ]
    }
   ],
   "source": [
    "print(sentiment,prediction)"
   ]
  },
  {
   "cell_type": "code",
   "execution_count": null,
   "metadata": {},
   "outputs": [],
   "source": []
  }
 ],
 "metadata": {
  "kernelspec": {
   "display_name": "venv",
   "language": "python",
   "name": "python3"
  },
  "language_info": {
   "codemirror_mode": {
    "name": "ipython",
    "version": 3
   },
   "file_extension": ".py",
   "mimetype": "text/x-python",
   "name": "python",
   "nbconvert_exporter": "python",
   "pygments_lexer": "ipython3",
   "version": "3.12.8"
  }
 },
 "nbformat": 4,
 "nbformat_minor": 2
}
